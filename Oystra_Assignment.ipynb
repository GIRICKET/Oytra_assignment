{
  "nbformat": 4,
  "nbformat_minor": 0,
  "metadata": {
    "colab": {
      "provenance": []
    },
    "kernelspec": {
      "name": "python3",
      "display_name": "Python 3"
    },
    "language_info": {
      "name": "python"
    }
  },
  "cells": [
    {
      "cell_type": "code",
      "source": [
        "pip install fastapi\n"
      ],
      "metadata": {
        "colab": {
          "base_uri": "https://localhost:8080/"
        },
        "id": "YOXt5YOvwY0P",
        "outputId": "ad4e43e1-4ed4-45cc-8152-5f7b221a97af"
      },
      "execution_count": 6,
      "outputs": [
        {
          "output_type": "stream",
          "name": "stdout",
          "text": [
            "Requirement already satisfied: fastapi in /usr/local/lib/python3.11/dist-packages (0.115.12)\n",
            "Requirement already satisfied: starlette<0.47.0,>=0.40.0 in /usr/local/lib/python3.11/dist-packages (from fastapi) (0.46.1)\n",
            "Requirement already satisfied: pydantic!=1.8,!=1.8.1,!=2.0.0,!=2.0.1,!=2.1.0,<3.0.0,>=1.7.4 in /usr/local/lib/python3.11/dist-packages (from fastapi) (2.10.6)\n",
            "Requirement already satisfied: typing-extensions>=4.8.0 in /usr/local/lib/python3.11/dist-packages (from fastapi) (4.12.2)\n",
            "Requirement already satisfied: annotated-types>=0.6.0 in /usr/local/lib/python3.11/dist-packages (from pydantic!=1.8,!=1.8.1,!=2.0.0,!=2.0.1,!=2.1.0,<3.0.0,>=1.7.4->fastapi) (0.7.0)\n",
            "Requirement already satisfied: pydantic-core==2.27.2 in /usr/local/lib/python3.11/dist-packages (from pydantic!=1.8,!=1.8.1,!=2.0.0,!=2.0.1,!=2.1.0,<3.0.0,>=1.7.4->fastapi) (2.27.2)\n",
            "Requirement already satisfied: anyio<5,>=3.6.2 in /usr/local/lib/python3.11/dist-packages (from starlette<0.47.0,>=0.40.0->fastapi) (4.9.0)\n",
            "Requirement already satisfied: idna>=2.8 in /usr/local/lib/python3.11/dist-packages (from anyio<5,>=3.6.2->starlette<0.47.0,>=0.40.0->fastapi) (3.10)\n",
            "Requirement already satisfied: sniffio>=1.1 in /usr/local/lib/python3.11/dist-packages (from anyio<5,>=3.6.2->starlette<0.47.0,>=0.40.0->fastapi) (1.3.1)\n"
          ]
        }
      ]
    },
    {
      "cell_type": "code",
      "source": [
        "pip install pymongo"
      ],
      "metadata": {
        "colab": {
          "base_uri": "https://localhost:8080/"
        },
        "id": "8zLpzCc-w3eA",
        "outputId": "ddc29e26-2312-4b27-c6ea-987ea7afd1f3"
      },
      "execution_count": 7,
      "outputs": [
        {
          "output_type": "stream",
          "name": "stdout",
          "text": [
            "Collecting pymongo\n",
            "  Downloading pymongo-4.11.3-cp311-cp311-manylinux_2_17_x86_64.manylinux2014_x86_64.whl.metadata (22 kB)\n",
            "Collecting dnspython<3.0.0,>=1.16.0 (from pymongo)\n",
            "  Downloading dnspython-2.7.0-py3-none-any.whl.metadata (5.8 kB)\n",
            "Downloading pymongo-4.11.3-cp311-cp311-manylinux_2_17_x86_64.manylinux2014_x86_64.whl (1.4 MB)\n",
            "\u001b[2K   \u001b[90m━━━━━━━━━━━━━━━━━━━━━━━━━━━━━━━━━━━━━━━━\u001b[0m \u001b[32m1.4/1.4 MB\u001b[0m \u001b[31m36.8 MB/s\u001b[0m eta \u001b[36m0:00:00\u001b[0m\n",
            "\u001b[?25hDownloading dnspython-2.7.0-py3-none-any.whl (313 kB)\n",
            "\u001b[2K   \u001b[90m━━━━━━━━━━━━━━━━━━━━━━━━━━━━━━━━━━━━━━━━\u001b[0m \u001b[32m313.6/313.6 kB\u001b[0m \u001b[31m20.6 MB/s\u001b[0m eta \u001b[36m0:00:00\u001b[0m\n",
            "\u001b[?25hInstalling collected packages: dnspython, pymongo\n",
            "Successfully installed dnspython-2.7.0 pymongo-4.11.3\n"
          ]
        }
      ]
    },
    {
      "cell_type": "code",
      "source": [
        "pip install python-jose"
      ],
      "metadata": {
        "colab": {
          "base_uri": "https://localhost:8080/"
        },
        "id": "hyyai3Oaw9gd",
        "outputId": "435f7cad-8f5d-43ed-c3ff-68eeab686b1e"
      },
      "execution_count": 8,
      "outputs": [
        {
          "output_type": "stream",
          "name": "stdout",
          "text": [
            "Collecting python-jose\n",
            "  Downloading python_jose-3.4.0-py2.py3-none-any.whl.metadata (5.5 kB)\n",
            "Collecting ecdsa!=0.15 (from python-jose)\n",
            "  Downloading ecdsa-0.19.1-py2.py3-none-any.whl.metadata (29 kB)\n",
            "Requirement already satisfied: rsa!=4.1.1,!=4.4,<5.0,>=4.0 in /usr/local/lib/python3.11/dist-packages (from python-jose) (4.9)\n",
            "Collecting pyasn1<0.5.0,>=0.4.1 (from python-jose)\n",
            "  Downloading pyasn1-0.4.8-py2.py3-none-any.whl.metadata (1.5 kB)\n",
            "Requirement already satisfied: six>=1.9.0 in /usr/local/lib/python3.11/dist-packages (from ecdsa!=0.15->python-jose) (1.17.0)\n",
            "Downloading python_jose-3.4.0-py2.py3-none-any.whl (34 kB)\n",
            "Downloading ecdsa-0.19.1-py2.py3-none-any.whl (150 kB)\n",
            "\u001b[2K   \u001b[90m━━━━━━━━━━━━━━━━━━━━━━━━━━━━━━━━━━━━━━━━\u001b[0m \u001b[32m150.6/150.6 kB\u001b[0m \u001b[31m13.6 MB/s\u001b[0m eta \u001b[36m0:00:00\u001b[0m\n",
            "\u001b[?25hDownloading pyasn1-0.4.8-py2.py3-none-any.whl (77 kB)\n",
            "\u001b[2K   \u001b[90m━━━━━━━━━━━━━━━━━━━━━━━━━━━━━━━━━━━━━━━━\u001b[0m \u001b[32m77.1/77.1 kB\u001b[0m \u001b[31m7.0 MB/s\u001b[0m eta \u001b[36m0:00:00\u001b[0m\n",
            "\u001b[?25hInstalling collected packages: pyasn1, ecdsa, python-jose\n",
            "  Attempting uninstall: pyasn1\n",
            "    Found existing installation: pyasn1 0.6.1\n",
            "    Uninstalling pyasn1-0.6.1:\n",
            "      Successfully uninstalled pyasn1-0.6.1\n",
            "Successfully installed ecdsa-0.19.1 pyasn1-0.4.8 python-jose-3.4.0\n"
          ]
        }
      ]
    },
    {
      "cell_type": "code",
      "source": [
        "pip install requests"
      ],
      "metadata": {
        "colab": {
          "base_uri": "https://localhost:8080/"
        },
        "id": "HElx-jdkxCCu",
        "outputId": "34b064c5-5a74-41a2-bdb0-f5236ae34ef5"
      },
      "execution_count": 10,
      "outputs": [
        {
          "output_type": "stream",
          "name": "stdout",
          "text": [
            "Requirement already satisfied: requests in /usr/local/lib/python3.11/dist-packages (2.32.3)\n",
            "Requirement already satisfied: charset-normalizer<4,>=2 in /usr/local/lib/python3.11/dist-packages (from requests) (3.4.1)\n",
            "Requirement already satisfied: idna<4,>=2.5 in /usr/local/lib/python3.11/dist-packages (from requests) (3.10)\n",
            "Requirement already satisfied: urllib3<3,>=1.21.1 in /usr/local/lib/python3.11/dist-packages (from requests) (2.3.0)\n",
            "Requirement already satisfied: certifi>=2017.4.17 in /usr/local/lib/python3.11/dist-packages (from requests) (2025.1.31)\n"
          ]
        }
      ]
    },
    {
      "cell_type": "code",
      "source": [
        "from fastapi import FastAPI, Depends, WebSocket, WebSocketDisconnect\n",
        "from fastapi.middleware.cors import CORSMiddleware\n",
        "from pymongo import MongoClient\n",
        "from jose import jwt\n",
        "import requests, time, threading\n",
        "from typing import List\n",
        "\n",
        "app = FastAPI()\n",
        "app.add_middleware(CORSMiddleware, allow_origins=[\"*\"], allow_credentials=True, allow_methods=[\"*\"], allow_headers=[\"*\"])\n",
        "\n",
        "mongo = MongoClient(\"mongodb://localhost:27017/\")\n",
        "db = mongo.stock_watchlist\n",
        "JWT_SECRET = \"supersecretkey\"\n",
        "STOCK_API = {\"key\": \"YOUR_STOCK_API_KEY\", \"url\": \"https://www.alphavantage.co/query\"}\n",
        "\n",
        "@app.post(\"/register\")\n",
        "async def register(user: dict):\n",
        "    if db.users.find_one({\"username\": user[\"username\"]}):\n",
        "        return {\"error\": \"User exists\"}\n",
        "    db.users.insert_one(user)\n",
        "    return {\"message\": \"Registered successfully\"}\n",
        "\n",
        "@app.post(\"/login\")\n",
        "async def login(user: dict):\n",
        "    db_user = db.users.find_one({\"username\": user[\"username\"]})\n",
        "    if not db_user or db_user[\"password\"] != user[\"password\"]:\n",
        "        return {\"error\": \"Invalid credentials\"}\n",
        "    return {\"access_token\": jwt.encode({\"sub\": user[\"username\"]}, JWT_SECRET, algorithm=\"HS256\")}\n",
        "\n",
        "@app.post(\"/watchlist\")\n",
        "async def add_to_watchlist(stock: dict):\n",
        "    db.watchlists.update_one({\"username\": stock[\"username\"]}, {\"$addToSet\": {\"stocks\": stock[\"symbol\"]}}, upsert=True)\n",
        "    return {\"message\": \"Stock added\"}\n",
        "\n",
        "@app.get(\"/stocks/{symbol}\")\n",
        "async def get_stock_price(symbol: str):\n",
        "    response = requests.get(STOCK_API[\"url\"], params={\"function\": \"GLOBAL_QUOTE\", \"symbol\": symbol, \"apikey\": STOCK_API[\"key\"]})\n",
        "    return response.json()\n",
        "\n",
        "class WebSocketManager:\n",
        "    def __init__(self):\n",
        "        self.active_connections: List[WebSocket] = []\n",
        "\n",
        "    async def connect(self, websocket: WebSocket):\n",
        "        await websocket.accept()\n",
        "        self.active_connections.append(websocket)\n",
        "\n",
        "    def disconnect(self, websocket: WebSocket):\n",
        "        self.active_connections.remove(websocket)\n",
        "\n",
        "    async def broadcast(self, message: dict):\n",
        "        for connection in self.active_connections:\n",
        "            await connection.send_json(message)\n",
        "\n",
        "manager = WebSocketManager()\n",
        "\n",
        "@app.websocket(\"/ws/{symbol}\")\n",
        "async def websocket_endpoint(websocket: WebSocket, symbol: str):\n",
        "    await manager.connect(websocket)\n",
        "    try:\n",
        "        while True:\n",
        "            response = requests.get(STOCK_API[\"url\"], params={\"function\": \"GLOBAL_QUOTE\", \"symbol\": symbol, \"apikey\": STOCK_API[\"key\"]})\n",
        "            await manager.broadcast(response.json())\n",
        "            time.sleep(10)\n",
        "    except WebSocketDisconnect:\n",
        "        manager.disconnect(websocket)\n",
        "\n",
        "@app.post(\"/set_alert\")\n",
        "async def set_price_alert(alert: dict):\n",
        "    db.alerts.insert_one(alert)\n",
        "    return {\"message\": \"Alert set\"}\n",
        "\n",
        "def check_alerts():\n",
        "    while True:\n",
        "        for alert in db.alerts.find():\n",
        "            response = requests.get(STOCK_API[\"url\"], params={\"function\": \"GLOBAL_QUOTE\", \"symbol\": alert[\"symbol\"], \"apikey\": STOCK_API[\"key\"]})\n",
        "            price = response.json().get(\"Global Quote\", {}).get(\"05. price\")\n",
        "            if price and float(price) >= alert[\"price\"]:\n",
        "                db.alerts.delete_one({\"_id\": alert[\"_id\"]})\n",
        "        time.sleep(30)\n",
        "\n",
        "threading.Thread(target=check_alerts, daemon=True).start()\n"
      ],
      "metadata": {
        "id": "LKBa3dYAxGYd"
      },
      "execution_count": 13,
      "outputs": []
    }
  ]
}